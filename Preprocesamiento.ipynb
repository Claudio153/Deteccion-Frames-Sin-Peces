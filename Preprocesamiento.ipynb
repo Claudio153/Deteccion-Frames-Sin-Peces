{
 "cells": [
  {
   "cell_type": "code",
   "execution_count": 3,
   "id": "8847ff39-476d-48f8-aebe-7c59cd1d1cad",
   "metadata": {},
   "outputs": [
    {
     "name": "stdout",
     "output_type": "stream",
     "text": [
      "Procesadas 20/150 imágenes...\n",
      "Procesadas 40/150 imágenes...\n",
      "Procesadas 60/150 imágenes...\n",
      "Procesadas 80/150 imágenes...\n",
      "Procesadas 100/150 imágenes...\n",
      "Procesadas 120/150 imágenes...\n",
      "Procesadas 140/150 imágenes...\n",
      "Data augmentation completado.\n"
     ]
    }
   ],
   "source": [
    "from pathlib import Path\n",
    "from PIL import Image, ImageOps, ImageEnhance, ImageFilter\n",
    "import random, shutil\n",
    "\n",
    "SRC_VACIO = Path(\"frames_separados/frames_vacios\")\n",
    "OUT_VACIO_AUG = Path(\"datasets/vacio\")\n",
    "OUT_VACIO_AUG.mkdir(parents=True, exist_ok=True)\n",
    "\n",
    "def augmentar_imagen(img_path: Path, out_dir: Path):\n",
    "    img = Image.open(img_path).convert(\"RGB\")\n",
    "\n",
    "    # --- 1. Flip horizontal + brillo ---\n",
    "    a1 = ImageOps.mirror(img)\n",
    "    a1 = ImageEnhance.Brightness(a1).enhance(random.uniform(0.9, 1.1))\n",
    "    a1.save(out_dir / f\"{img_path.stem}_flip.jpg\")\n",
    "\n",
    "    # --- 2. Rotación leve + blur ---\n",
    "    a2 = img.rotate(random.uniform(-10, 10), resample=Image.BICUBIC, expand=False)\n",
    "    a2 = a2.filter(ImageFilter.GaussianBlur(radius=0.8))\n",
    "    a2.save(out_dir / f\"{img_path.stem}_rotblur.jpg\")\n",
    "\n",
    "    # --- 3. Contraste + saturación ---\n",
    "    a3 = ImageEnhance.Contrast(img).enhance(random.uniform(0.7, 1.4))\n",
    "    a3 = ImageEnhance.Color(a3).enhance(random.uniform(1.0, 1.8))\n",
    "    a3.save(out_dir / f\"{img_path.stem}_color.jpg\")\n",
    "\n",
    "    # --- 4. Gamma o ruido leve ---\n",
    "    a4 = ImageEnhance.Brightness(img).enhance(random.uniform(1.5, 2.0))\n",
    "    a4.save(out_dir / f\"{img_path.stem}_gamma.jpg\")\n",
    "\n",
    "# Procesar todas las imágenes\n",
    "imgs = sorted(SRC_VACIO.glob(\"*.jpeg\"))\n",
    "for i, img in enumerate(imgs, 1):\n",
    "    augmentar_imagen(img, OUT_VACIO_AUG)\n",
    "    shutil.copy2(img, OUT_VACIO_AUG / f\"{img.stem}_orig.jpg\")  # copia original también\n",
    "    if i % 20 == 0:\n",
    "        print(f\"Procesadas {i}/{len(imgs)} imágenes...\")\n",
    "\n",
    "print(\"Data augmentation completado.\")\n"
   ]
  },
  {
   "cell_type": "code",
   "execution_count": null,
   "id": "11902616-c9da-4243-9bb9-805cf2f393ca",
   "metadata": {},
   "outputs": [],
   "source": []
  }
 ],
 "metadata": {
  "kernelspec": {
   "display_name": "Python 3 (ipykernel)",
   "language": "python",
   "name": "python3"
  },
  "language_info": {
   "codemirror_mode": {
    "name": "ipython",
    "version": 3
   },
   "file_extension": ".py",
   "mimetype": "text/x-python",
   "name": "python",
   "nbconvert_exporter": "python",
   "pygments_lexer": "ipython3",
   "version": "3.12.3"
  }
 },
 "nbformat": 4,
 "nbformat_minor": 5
}
